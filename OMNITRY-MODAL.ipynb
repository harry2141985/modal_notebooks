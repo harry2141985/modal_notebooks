{
  "cells": [
    {
      "cell_type": "markdown",
      "metadata": {
        "id": "gf3WE5qe0gY3"
      },
      "source": [
        "# #1 Cloning"
      ],
      "id": "gf3WE5qe0gY3"
    },
    {
      "cell_type": "code",
      "metadata": {
        "scrolled": true,
        "id": "TgzHLB8f0gY4"
      },
      "source": [
        "%cd /root\n",
        "!git clone https://github.com/harry2141985/OmniTry.git\n",
        "%cd OmniTry\n"
      ],
      "execution_count": null,
      "outputs": [],
      "id": "TgzHLB8f0gY4"
    },
    {
      "cell_type": "markdown",
      "metadata": {
        "id": "Wc64GXVR0gY5"
      },
      "source": [
        "# #2 Requirements"
      ],
      "id": "Wc64GXVR0gY5"
    },
    {
      "cell_type": "code",
      "metadata": {
        "scrolled": true,
        "id": "oepcLPcM0gY5"
      },
      "source": [
        "!pip install -r requirements.txt\n",
        "!pip install flash-attn\n",
        "!pip install pydantic==2.10.6"
      ],
      "execution_count": null,
      "outputs": [],
      "id": "oepcLPcM0gY5"
    },
    {
      "cell_type": "markdown",
      "metadata": {
        "id": "FRbS99S40gY6"
      },
      "source": [
        "# 3# Download Models"
      ],
      "id": "FRbS99S40gY6"
    },
    {
      "cell_type": "code",
      "metadata": {
        "scrolled": true,
        "id": "t2uY9I240gY6"
      },
      "source": [
        "!mkdir -p /root/OmniTry/checkpoints\n",
        "\n",
        "!wget -O /root/OmniTry/checkpoints/omnitry_v1_clothes.safetensors \\\n",
        "  \"https://huggingface.co/Kunbyte/OmniTry/resolve/main/omnitry_v1_clothes.safetensors?download=true\"\n",
        "\n",
        "!wget -O /root/OmniTry/checkpoints/omnitry_v1_unified.safetensors \\\n",
        "  \"https://huggingface.co/Kunbyte/OmniTry/resolve/main/omnitry_v1_unified.safetensors?download=true\"\n"
      ],
      "execution_count": null,
      "outputs": [],
      "id": "t2uY9I240gY6"
    },
    {
      "cell_type": "markdown",
      "metadata": {
        "id": "Sm0qNR0e0gY6"
      },
      "source": [
        "# #4 Download Flux"
      ],
      "id": "Sm0qNR0e0gY6"
    },
    {
      "cell_type": "code",
      "metadata": {
        "scrolled": true,
        "id": "7LtiNuGb0gY6"
      },
      "source": [
        "!apt-get install git-lfs -y\n",
        "!git lfs install\n",
        "!rm -rf /root/OmniTry/checkpoints/FLUX.1-Fill-dev\n",
        "!git clone https://hf:@huggingface.co/black-forest-labs/FLUX.1-Fill-dev /root/OmniTry/checkpoints/FLUX.1-Fill-dev\n"
      ],
      "execution_count": null,
      "outputs": [],
      "id": "7LtiNuGb0gY6"
    },
    {
      "cell_type": "markdown",
      "metadata": {
        "id": "8xJvJ0oY0gY6"
      },
      "source": [
        "# Main Cell"
      ],
      "id": "8xJvJ0oY0gY6"
    },
    {
      "cell_type": "code",
      "metadata": {
        "scrolled": true,
        "id": "VK9sBiRH0gY6"
      },
      "source": [
        "!python gradio_demo.py"
      ],
      "execution_count": null,
      "outputs": [],
      "id": "VK9sBiRH0gY6"
    }
  ],
  "metadata": {
    "kernelspec": {
      "display_name": "Python",
      "language": "python",
      "name": "python3"
    },
    "language_info": {
      "codemirror_mode": {
        "name": "ipython",
        "version": 3
      },
      "file_extension": ".py",
      "mimetype": "text/x-python",
      "name": "python",
      "nbconvert_exporter": "python",
      "pygments_lexer": "ipython3"
    },
    "colab": {
      "provenance": []
    }
  },
  "nbformat": 4,
  "nbformat_minor": 5
}