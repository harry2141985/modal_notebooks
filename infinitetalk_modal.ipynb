{
  "cells": [
    {
      "cell_type": "markdown",
      "metadata": {
        "id": "_AxPPb2Ci8Np"
      },
      "source": [
        "# #1 Cloning"
      ],
      "id": "_AxPPb2Ci8Np"
    },
    {
      "cell_type": "code",
      "metadata": {
        "scrolled": true,
        "id": "vc1TKdAIi8Nr"
      },
      "source": [
        "%cd /root\n",
        "!git clone https://github.com/harry2141985/InfiniteTalk.git\n",
        "%cd InfiniteTalk"
      ],
      "execution_count": null,
      "outputs": [],
      "id": "vc1TKdAIi8Nr"
    },
    {
      "cell_type": "markdown",
      "metadata": {
        "id": "_0MqQcCRi8Ns"
      },
      "source": [
        "# #2 Requirements"
      ],
      "id": "_0MqQcCRi8Ns"
    },
    {
      "cell_type": "code",
      "metadata": {
        "scrolled": true,
        "id": "L1_DOyDpi8Ns"
      },
      "source": [
        "!pip install torch==2.4.1 torchvision==0.19.1 torchaudio==2.4.1 --index-url https://download.pytorch.org/whl/cu121\n",
        "!pip install -U xformers==0.0.28 --index-url https://download.pytorch.org/whl/cu121\n",
        "!pip install misaki[en]\n",
        "!pip install ninja\n",
        "!pip install psutil\n",
        "!pip install packaging\n",
        "!pip install flash_attn==2.7.4.post1\n",
        "!pip install -r requirements.txt\n",
        "!pip install librosa\n",
        "!pip install soundfile"
      ],
      "execution_count": null,
      "outputs": [],
      "id": "L1_DOyDpi8Ns"
    },
    {
      "cell_type": "markdown",
      "metadata": {
        "id": "d1gnyx6oi8Nt"
      },
      "source": [
        "# #3 Fixing Librosa"
      ],
      "id": "d1gnyx6oi8Nt"
    },
    {
      "cell_type": "code",
      "metadata": {
        "scrolled": true,
        "id": "NU93hr-vi8Nt"
      },
      "source": [
        "import librosa\n",
        "import librosa.display\n",
        "import matplotlib.pyplot as plt\n",
        "\n",
        "# Load example audio from librosa\n",
        "y, sr = librosa.load(librosa.example('trumpet'))\n",
        "\n",
        "# Display waveform\n",
        "plt.figure(figsize=(10, 4))\n",
        "librosa.display.waveshow(y, sr=sr)\n",
        "plt.title(\"Waveform of Example Audio\")\n",
        "plt.xlabel(\"Time (s)\")\n",
        "plt.ylabel(\"Amplitude\")\n",
        "plt.show()\n",
        "\n",
        "print(\"Librosa is working fine! Sample rate:\", sr)"
      ],
      "execution_count": null,
      "outputs": [],
      "id": "NU93hr-vi8Nt"
    },
    {
      "cell_type": "markdown",
      "metadata": {
        "id": "9qbkQ_3hi8Nu"
      },
      "source": [
        "# #4 ffmpeg Install"
      ],
      "id": "9qbkQ_3hi8Nu"
    },
    {
      "cell_type": "code",
      "metadata": {
        "scrolled": true,
        "id": "UO4ZOPvCi8Nu"
      },
      "source": [
        "!apt-get -y update\n",
        "!apt-get install -y libglib2.0-0 libgl1\n",
        "!apt-get install -y ffmpeg"
      ],
      "execution_count": null,
      "outputs": [],
      "id": "UO4ZOPvCi8Nu"
    },
    {
      "cell_type": "markdown",
      "metadata": {
        "id": "ZM9pIhwXi8Nu"
      },
      "source": [
        "# #5 Download Models"
      ],
      "id": "ZM9pIhwXi8Nu"
    },
    {
      "cell_type": "code",
      "metadata": {
        "scrolled": true,
        "id": "VkE3SAEhi8Nv"
      },
      "source": [
        "!huggingface-cli download Wan-AI/Wan2.1-I2V-14B-480P --local-dir ./weights/Wan2.1-I2V-14B-480P\n",
        "!huggingface-cli download TencentGameMate/chinese-wav2vec2-base --local-dir ./weights/chinese-wav2vec2-base\n",
        "!huggingface-cli download TencentGameMate/chinese-wav2vec2-base model.safetensors --revision refs/pr/1 --local-dir ./weights/chinese-wav2vec2-base\n",
        "!huggingface-cli download MeiGen-AI/InfiniteTalk --local-dir ./weights/InfiniteTalk"
      ],
      "execution_count": null,
      "outputs": [],
      "id": "VkE3SAEhi8Nv"
    },
    {
      "cell_type": "markdown",
      "metadata": {
        "id": "JUH2PX1qi8Nv"
      },
      "source": [
        "# #6 Fixing model"
      ],
      "id": "JUH2PX1qi8Nv"
    },
    {
      "cell_type": "code",
      "metadata": {
        "scrolled": true,
        "id": "sbUBqsXFi8Nv"
      },
      "source": [
        "# Open multitalk.py for editing\n",
        "multitalk_file = \"/root/InfiniteTalk/wan/multitalk.py\"\n",
        "\n",
        "with open(multitalk_file, \"r\") as f:\n",
        "    lines = f.readlines()\n",
        "\n",
        "new_lines = []\n",
        "for line in lines:\n",
        "    if \"from inspect import ArgSpec\" in line:\n",
        "        new_lines.append(\"from inspect import FullArgSpec as ArgSpec  # fixed for Python 3.12\\n\")\n",
        "    else:\n",
        "        new_lines.append(line)\n",
        "\n",
        "with open(multitalk_file, \"w\") as f:\n",
        "    f.writelines(new_lines)\n",
        "\n",
        "print(\"Patched multitalk.py: replaced ArgSpec with FullArgSpec for Python 3.12.\")"
      ],
      "execution_count": null,
      "outputs": [],
      "id": "sbUBqsXFi8Nv"
    },
    {
      "cell_type": "code",
      "metadata": {
        "scrolled": true,
        "id": "Gr8Snx31i8Nv"
      },
      "source": [
        "# Path to the file\n",
        "file_path = \"/root/InfiniteTalk/src/audio_analysis/wav2vec2.py\"\n",
        "\n",
        "# Read the file\n",
        "with open(file_path, \"r\") as f:\n",
        "    lines = f.readlines()\n",
        "\n",
        "# Comment out the line that sets output_attentions\n",
        "with open(file_path, \"w\") as f:\n",
        "    for line in lines:\n",
        "        if \"self.config.output_attentions = True\" in line:\n",
        "            f.write(\"# \" + line)  # comment it out\n",
        "        else:\n",
        "            f.write(line)\n",
        "\n",
        "print(\"Line 'self.config.output_attentions = True' has been commented out.\")"
      ],
      "execution_count": null,
      "outputs": [],
      "id": "Gr8Snx31i8Nv"
    },
    {
      "cell_type": "markdown",
      "metadata": {
        "id": "78r7Ndnii8Nv"
      },
      "source": [
        "# Main Code"
      ],
      "id": "78r7Ndnii8Nv"
    },
    {
      "cell_type": "code",
      "metadata": {
        "scrolled": true,
        "id": "JLw_9CZpi8Nw"
      },
      "source": [
        "!python app.py \\\n",
        "    --ckpt_dir weights/Wan2.1-I2V-14B-480P \\\n",
        "    --wav2vec_dir 'weights/chinese-wav2vec2-base' \\\n",
        "    --infinitetalk_dir weights/InfiniteTalk/single/infinitetalk.safetensors \\\n",
        "    --num_persistent_param_in_dit 0 \\\n",
        "    --motion_frame 9"
      ],
      "execution_count": null,
      "outputs": [],
      "id": "JLw_9CZpi8Nw"
    }
  ],
  "metadata": {
    "kernelspec": {
      "display_name": "Python",
      "language": "python",
      "name": "python3"
    },
    "language_info": {
      "codemirror_mode": {
        "name": "ipython",
        "version": 3
      },
      "file_extension": ".py",
      "mimetype": "text/x-python",
      "name": "python",
      "nbconvert_exporter": "python",
      "pygments_lexer": "ipython3"
    },
    "colab": {
      "provenance": []
    }
  },
  "nbformat": 4,
  "nbformat_minor": 5
}