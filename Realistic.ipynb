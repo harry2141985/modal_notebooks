{
  "cells": [
    {
      "cell_type": "markdown",
      "source": [
        "# Clone"
      ],
      "metadata": {
        "id": "aXkyHwhh_Xyj"
      },
      "id": "aXkyHwhh_Xyj"
    },
    {
      "cell_type": "code",
      "metadata": {
        "scrolled": true,
        "id": "-ifdsmDl_PKg"
      },
      "source": [
        "%cd /root\n",
        "!git clone https://github.com/harry2141985/Realistic.git\n",
        "%cd Realistic"
      ],
      "execution_count": null,
      "outputs": [],
      "id": "-ifdsmDl_PKg"
    },
    {
      "cell_type": "markdown",
      "source": [
        "# Requirements"
      ],
      "metadata": {
        "id": "bOelajtU_buC"
      },
      "id": "bOelajtU_buC"
    },
    {
      "cell_type": "code",
      "source": [],
      "metadata": {
        "id": "OmCTepr6_q4a"
      },
      "id": "OmCTepr6_q4a",
      "execution_count": null,
      "outputs": []
    },
    {
      "cell_type": "code",
      "metadata": {
        "scrolled": true,
        "id": "zMzAKtOR_PKj"
      },
      "source": [
        "!pip install -r requirements.txt\n",
        "!pip install spaces"
      ],
      "execution_count": null,
      "outputs": [],
      "id": "zMzAKtOR_PKj"
    },
    {
      "cell_type": "markdown",
      "source": [
        "# Main"
      ],
      "metadata": {
        "id": "vg1VNzKQ_ioC"
      },
      "id": "vg1VNzKQ_ioC"
    },
    {
      "cell_type": "code",
      "metadata": {
        "scrolled": true,
        "id": "d5q1aVOT_PKk"
      },
      "source": [
        "!python app.py --share"
      ],
      "execution_count": null,
      "outputs": [],
      "id": "d5q1aVOT_PKk"
    }
  ],
  "metadata": {
    "kernelspec": {
      "display_name": "Python",
      "language": "python",
      "name": "python3"
    },
    "language_info": {
      "codemirror_mode": {
        "name": "ipython",
        "version": 3
      },
      "file_extension": ".py",
      "mimetype": "text/x-python",
      "name": "python",
      "nbconvert_exporter": "python",
      "pygments_lexer": "ipython3"
    },
    "colab": {
      "provenance": []
    }
  },
  "nbformat": 4,
  "nbformat_minor": 5
}