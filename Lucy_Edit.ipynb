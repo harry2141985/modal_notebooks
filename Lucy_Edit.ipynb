{
  "cells": [
    {
      "cell_type": "markdown",
      "source": [
        "# **Clone**"
      ],
      "metadata": {
        "id": "Jdi_dcrp-gA-"
      },
      "id": "Jdi_dcrp-gA-"
    },
    {
      "cell_type": "code",
      "source": [
        "%cd /root\n",
        "!git clone https://huggingface.co/spaces/decart-ai/lucy-edit-dev\n",
        "%cd /root/lucy-edit-dev"
      ],
      "metadata": {
        "id": "cxVn_nJn-n6U"
      },
      "id": "cxVn_nJn-n6U",
      "execution_count": null,
      "outputs": []
    },
    {
      "cell_type": "markdown",
      "source": [
        "# ***Requirements***"
      ],
      "metadata": {
        "id": "fOwY7YLs-pLN"
      },
      "id": "fOwY7YLs-pLN"
    },
    {
      "cell_type": "code",
      "source": [
        "!pip install -r requirements.txt\n",
        "!pip install spaces"
      ],
      "metadata": {
        "id": "Rgh5XmVj-uB-"
      },
      "id": "Rgh5XmVj-uB-",
      "execution_count": null,
      "outputs": []
    },
    {
      "cell_type": "markdown",
      "source": [
        "# **FFMPEG**"
      ],
      "metadata": {
        "id": "qZAfQ9e4-vFE"
      },
      "id": "qZAfQ9e4-vFE"
    },
    {
      "cell_type": "code",
      "source": [
        "!apt-get -y update\n",
        "!apt-get install -y libglib2.0-0 libgl1\n",
        "!apt-get install -y ffmpeg"
      ],
      "metadata": {
        "id": "dbU2cWKI_Cnc"
      },
      "id": "dbU2cWKI_Cnc",
      "execution_count": null,
      "outputs": []
    },
    {
      "cell_type": "markdown",
      "source": [
        "# **Main Code**"
      ],
      "metadata": {
        "id": "JM9Px5F2_DqV"
      },
      "id": "JM9Px5F2_DqV"
    },
    {
      "cell_type": "code",
      "source": [
        "!python app.py"
      ],
      "metadata": {
        "id": "vd03Put0_MM0"
      },
      "id": "vd03Put0_MM0",
      "execution_count": null,
      "outputs": []
    }
  ],
  "metadata": {
    "kernelspec": {
      "display_name": "Python",
      "language": "python",
      "name": "python3"
    },
    "language_info": {
      "codemirror_mode": {
        "name": "ipython",
        "version": 3
      },
      "file_extension": ".py",
      "mimetype": "text/x-python",
      "name": "python",
      "nbconvert_exporter": "python",
      "pygments_lexer": "ipython3"
    },
    "colab": {
      "provenance": []
    }
  },
  "nbformat": 4,
  "nbformat_minor": 5
}