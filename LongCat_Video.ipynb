{
  "cells": [
    {
      "cell_type": "markdown",
      "source": [
        "# **Clone**"
      ],
      "metadata": {
        "id": "5eWZmrEbxtwk"
      },
      "id": "5eWZmrEbxtwk"
    },
    {
      "cell_type": "code",
      "source": [
        "%cd /root\n",
        "!git clone https://github.com/meituan-longcat/LongCat-Video\n",
        "%cd LongCat-Video"
      ],
      "metadata": {
        "id": "ybrdO06ZxwhK"
      },
      "id": "ybrdO06ZxwhK",
      "execution_count": null,
      "outputs": []
    },
    {
      "cell_type": "markdown",
      "source": [
        "# **Requirements**"
      ],
      "metadata": {
        "id": "gzm1lh_axzxz"
      },
      "id": "gzm1lh_axzxz"
    },
    {
      "cell_type": "code",
      "source": [
        "!pip install torch==2.6.0+cu124 torchvision==0.21.0+cu124 torchaudio==2.6.0 --index-url https://download.pytorch.org/whl/cu124\n",
        "!pip install ninja\n",
        "!pip install psutil\n",
        "!pip install packaging\n",
        "!pip install flash_attn==2.7.4.post1\n",
        "!pip install -r requirements.txt"
      ],
      "metadata": {
        "id": "qNGmlc0Ex4Aq"
      },
      "id": "qNGmlc0Ex4Aq",
      "execution_count": null,
      "outputs": []
    },
    {
      "cell_type": "markdown",
      "source": [
        "# **ffmpeg**"
      ],
      "metadata": {
        "id": "Kjts0TYQx6sb"
      },
      "id": "Kjts0TYQx6sb"
    },
    {
      "cell_type": "code",
      "source": [
        "!apt-get -y update\n",
        "!apt-get install -y libglib2.0-0 libgl1\n",
        "!apt-get install -y ffmpeg"
      ],
      "metadata": {
        "id": "BVGCKZ9Fx9Vj"
      },
      "id": "BVGCKZ9Fx9Vj",
      "execution_count": null,
      "outputs": []
    },
    {
      "cell_type": "markdown",
      "source": [
        "# **Models**"
      ],
      "metadata": {
        "id": "x1rPdqCMyDLz"
      },
      "id": "x1rPdqCMyDLz"
    },
    {
      "cell_type": "code",
      "source": [
        "!pip install \"huggingface_hub[cli]\"\n",
        "!huggingface-cli download meituan-longcat/LongCat-Video --local-dir ./weights/LongCat-Video\n"
      ],
      "metadata": {
        "id": "WHtS9l-KyKqz"
      },
      "id": "WHtS9l-KyKqz",
      "execution_count": null,
      "outputs": []
    },
    {
      "cell_type": "markdown",
      "source": [
        "# **Text to Video**"
      ],
      "metadata": {
        "id": "vwm01NlfyG8C"
      },
      "id": "vwm01NlfyG8C"
    },
    {
      "cell_type": "code",
      "source": [
        "!torchrun run_demo_text_to_video.py --checkpoint_dir=./weights/LongCat-Video --enable_compile"
      ],
      "metadata": {
        "id": "X0RG9wGdyR4z"
      },
      "id": "X0RG9wGdyR4z",
      "execution_count": null,
      "outputs": []
    },
    {
      "cell_type": "markdown",
      "source": [
        "# **Long Text to Video**"
      ],
      "metadata": {
        "id": "586hP4V9yWCC"
      },
      "id": "586hP4V9yWCC"
    },
    {
      "cell_type": "code",
      "source": [
        "!torchrun run_demo_long_video.py --checkpoint_dir=./weights/LongCat-Video --enable_compile"
      ],
      "metadata": {
        "id": "w6I9muxpybjz"
      },
      "id": "w6I9muxpybjz",
      "execution_count": null,
      "outputs": []
    },
    {
      "cell_type": "markdown",
      "source": [
        "# **Image to Video**"
      ],
      "metadata": {
        "id": "r_CjH3TUyf1L"
      },
      "id": "r_CjH3TUyf1L"
    },
    {
      "cell_type": "code",
      "source": [
        "!torchrun run_demo_image_to_video.py --checkpoint_dir=./weights/LongCat-Video --enable_compile"
      ],
      "metadata": {
        "id": "D_FUstvBysmz"
      },
      "id": "D_FUstvBysmz",
      "execution_count": null,
      "outputs": []
    }
  ],
  "metadata": {
    "kernelspec": {
      "display_name": "Python",
      "language": "python",
      "name": "python3"
    },
    "language_info": {
      "codemirror_mode": {
        "name": "ipython",
        "version": 3
      },
      "file_extension": ".py",
      "mimetype": "text/x-python",
      "name": "python",
      "nbconvert_exporter": "python",
      "pygments_lexer": "ipython3"
    },
    "colab": {
      "provenance": []
    }
  },
  "nbformat": 4,
  "nbformat_minor": 5
}