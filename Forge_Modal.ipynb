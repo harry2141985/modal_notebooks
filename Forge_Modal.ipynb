{
  "cells": [
    {
      "cell_type": "markdown",
      "metadata": {
        "id": "cECfhY_BwY2H"
      },
      "source": [
        "# Clone Forge"
      ],
      "id": "cECfhY_BwY2H"
    },
    {
      "cell_type": "code",
      "metadata": {
        "scrolled": false,
        "id": "2cuqDUHLwY2I"
      },
      "source": [
        "%cd /root\n",
        "!git clone https://github.com/lllyasviel/stable-diffusion-webui-forge.git\n"
      ],
      "execution_count": null,
      "outputs": [],
      "id": "2cuqDUHLwY2I"
    },
    {
      "cell_type": "markdown",
      "metadata": {
        "id": "EBZ6YqnfwY2J"
      },
      "source": [
        "# Install Requirements"
      ],
      "id": "EBZ6YqnfwY2J"
    },
    {
      "cell_type": "code",
      "metadata": {
        "scrolled": false,
        "id": "Xjo8yAWCwY2J"
      },
      "source": [
        "!pip install -r /root/stable-diffusion-webui-forge/requirements_versions.txt"
      ],
      "execution_count": null,
      "outputs": [],
      "id": "Xjo8yAWCwY2J"
    },
    {
      "cell_type": "code",
      "metadata": {
        "scrolled": true,
        "id": "0mdzDTqGwY2K"
      },
      "source": [
        "!apt-get update\n",
        "!apt-get install -y libjpeg-dev zlib1g-dev libpng-dev\n",
        "!pip install --no-cache-dir Pillow\n",
        "!apt-get install -y libgl1\n",
        "!apt-get install -y libglib2.0-0 libgl1\n"
      ],
      "execution_count": null,
      "outputs": [],
      "id": "0mdzDTqGwY2K"
    },
    {
      "cell_type": "markdown",
      "metadata": {
        "id": "crBbZUBGwY2K"
      },
      "source": [
        "# Install Model"
      ],
      "id": "crBbZUBGwY2K"
    },
    {
      "cell_type": "markdown",
      "metadata": {
        "id": "o37i4zMJwY2K"
      },
      "source": [
        "### Install Checkpoints"
      ],
      "id": "o37i4zMJwY2K"
    },
    {
      "cell_type": "code",
      "metadata": {
        "scrolled": false,
        "id": "hssJZKodwY2L"
      },
      "source": [
        "# Install a model to permanent storage\n",
        "# Make sure Persistence is set to \"Files only\" or \"Variables and Files\"\n",
        "# You can find other model and download it here just chage name and model url\n",
        "model_url = \"https://civitai.com/api/download/models/357609\"\n",
        "model_name = \"Juggernaut_xl.safetensors\"\n",
        "\n",
        "%cd /root/stable-diffusion-webui-forge/models/Stable-diffusion\n",
        "get_ipython().system(f'wget -O \"{model_name}\" \"{model_url}\"')"
      ],
      "execution_count": null,
      "outputs": [],
      "id": "hssJZKodwY2L"
    },
    {
      "cell_type": "markdown",
      "metadata": {
        "id": "PnoR7IavwY2L"
      },
      "source": [
        "### Install *Lora*\n",
        "\n"
      ],
      "id": "PnoR7IavwY2L"
    },
    {
      "cell_type": "code",
      "metadata": {
        "scrolled": false,
        "id": "OI6f63n3wY2L"
      },
      "source": [
        "\n",
        "model_url = \"https://civitai.com/api/download/models/114163\"\n",
        "model_name = \"Jellyfishforest.safetensors\"\n",
        "\n",
        "\n",
        "%cd /root/stable-diffusion-webui-forge/models/Lora\n",
        "get_ipython().system(f'wget -O \"{model_name}\" \"{model_url}\"')"
      ],
      "execution_count": null,
      "outputs": [],
      "id": "OI6f63n3wY2L"
    },
    {
      "cell_type": "markdown",
      "metadata": {
        "id": "rbDZ3CXHwY2M"
      },
      "source": [
        "# Launch with Piggy"
      ],
      "id": "rbDZ3CXHwY2M"
    },
    {
      "cell_type": "code",
      "metadata": {
        "scrolled": false,
        "id": "0xLqVF1UwY2M"
      },
      "source": [
        "# Starting the Web UI with pinggy\n",
        "\n",
        "from multiprocessing import Process\n",
        "import sys\n",
        "import time\n",
        "\n",
        "!touch log.txt\n",
        "open('log.txt', 'w').close()\n",
        "\n",
        "def run_app():\n",
        "    cmd = f\"python /root/stable-diffusion-webui-forge/launch.py & ssh -o StrictHostKeyChecking=no -p 80 -R0:localhost:7860 a.pinggy.io > log.txt\"\n",
        "    get_ipython().system(cmd)\n",
        "\n",
        "def print_url():\n",
        "    print(\"waiting for output\")\n",
        "    time.sleep(2)\n",
        "    sys.stdout.flush()\n",
        "\n",
        "    found = False\n",
        "    with open('log.txt', 'r') as file:\n",
        "        end_word = '.pinggy.link'\n",
        "        for line in file:\n",
        "            start_index = line.find(\"http:\")\n",
        "            if start_index != -1:\n",
        "                end_index = line.find(end_word, start_index)\n",
        "                if end_index != -1:\n",
        "                    print(\"😁 😁 😁\")\n",
        "                    print(\"URL: \" + line[start_index:end_index + len(end_word)])\n",
        "                    print(\"😁 😁 😁\")\n",
        "                    found = True\n",
        "    if not found:\n",
        "        print_url()\n",
        "    else:\n",
        "        with open('log.txt', 'r') as file:\n",
        "            for line in file:\n",
        "                print(line)\n",
        "\n",
        "p_app = Process(target=run_app)\n",
        "p_url = Process(target=print_url)\n",
        "p_app.start()\n",
        "p_url.start()\n",
        "p_app.join()\n",
        "p_url.join()"
      ],
      "execution_count": null,
      "outputs": [],
      "id": "0xLqVF1UwY2M"
    }
  ],
  "metadata": {
    "kernelspec": {
      "display_name": "Python",
      "language": "python",
      "name": "python3"
    },
    "language_info": {
      "codemirror_mode": {
        "name": "ipython",
        "version": 3
      },
      "file_extension": ".py",
      "mimetype": "text/x-python",
      "name": "python",
      "nbconvert_exporter": "python",
      "pygments_lexer": "ipython3"
    },
    "colab": {
      "provenance": []
    }
  },
  "nbformat": 4,
  "nbformat_minor": 5
}