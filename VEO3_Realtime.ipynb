{
  "cells": [
    {
      "cell_type": "markdown",
      "source": [
        "# **Clone**"
      ],
      "metadata": {
        "id": "pdSMDBfMU5Uw"
      },
      "id": "pdSMDBfMU5Uw"
    },
    {
      "cell_type": "code",
      "source": [
        "%cd root\n",
        "!git clone https://huggingface.co/spaces/Heartsync/VEO3-RealTime\n",
        "%cd VEO3-RealTime"
      ],
      "metadata": {
        "id": "gw0F41fxU9WI"
      },
      "id": "gw0F41fxU9WI",
      "execution_count": null,
      "outputs": []
    },
    {
      "cell_type": "markdown",
      "source": [
        "# **Requirements**"
      ],
      "metadata": {
        "id": "fd1CU9N-U_B_"
      },
      "id": "fd1CU9N-U_B_"
    },
    {
      "cell_type": "code",
      "source": [],
      "metadata": {
        "id": "cCVYKd_2Vhl_"
      },
      "id": "cCVYKd_2Vhl_",
      "execution_count": null,
      "outputs": []
    },
    {
      "cell_type": "code",
      "source": [
        "\n",
        "!pip install -r pre-requirements.txt\n",
        "!pip install -r requirements.txt\n",
        "!pip install spaces"
      ],
      "metadata": {
        "id": "-9Rvk4mGVR4n"
      },
      "id": "-9Rvk4mGVR4n",
      "execution_count": null,
      "outputs": []
    },
    {
      "cell_type": "markdown",
      "source": [
        "# **FFMPEG**"
      ],
      "metadata": {
        "id": "DUdG6pYhVMU_"
      },
      "id": "DUdG6pYhVMU_"
    },
    {
      "cell_type": "code",
      "source": [
        "!apt-get update\n",
        "!apt-get install -y libglib2.0-0 libgl1\n",
        "!apt-get update\n",
        "!apt-get install -y ffmpeg"
      ],
      "metadata": {
        "id": "gyzsM8aJVLMI"
      },
      "id": "gyzsM8aJVLMI",
      "execution_count": null,
      "outputs": []
    },
    {
      "cell_type": "markdown",
      "source": [
        "# **Main Code**"
      ],
      "metadata": {
        "id": "0lCE_qx4VX5P"
      },
      "id": "0lCE_qx4VX5P"
    },
    {
      "cell_type": "code",
      "source": [
        "!python app.py"
      ],
      "metadata": {
        "id": "db7bKF5qVcaf"
      },
      "id": "db7bKF5qVcaf",
      "execution_count": null,
      "outputs": []
    }
  ],
  "metadata": {
    "kernelspec": {
      "display_name": "Python",
      "language": "python",
      "name": "python3"
    },
    "language_info": {
      "codemirror_mode": {
        "name": "ipython",
        "version": 3
      },
      "file_extension": ".py",
      "mimetype": "text/x-python",
      "name": "python",
      "nbconvert_exporter": "python",
      "pygments_lexer": "ipython3"
    },
    "colab": {
      "provenance": []
    }
  },
  "nbformat": 4,
  "nbformat_minor": 5
}