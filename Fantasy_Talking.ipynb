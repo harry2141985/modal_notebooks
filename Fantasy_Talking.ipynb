{
  "cells": [
    {
      "cell_type": "code",
      "metadata": {
        "scrolled": true,
        "id": "1n9DqNlh0D_q"
      },
      "source": [
        "%cd /root\n",
        "!git clone https://github.com/Fantasy-AMAP/fantasy-talking.git\n",
        "%cd fantasy-talking\n",
        "!pip install -r requirements.txt\n",
        "!pip install spaces gradio\n",
        "!pip install flash_attn\n",
        "\n"
      ],
      "execution_count": null,
      "outputs": [],
      "id": "1n9DqNlh0D_q"
    },
    {
      "cell_type": "code",
      "metadata": {
        "scrolled": true,
        "id": "shr8Xx6b0D_r"
      },
      "source": [
        "!apt-get -y update\n",
        "!apt-get install -y libglib2.0-0 libgl1\n",
        "!apt-get install -y ffmpeg"
      ],
      "execution_count": null,
      "outputs": [],
      "id": "shr8Xx6b0D_r"
    },
    {
      "cell_type": "code",
      "metadata": {
        "scrolled": true,
        "id": "6gy2Jxan0D_r"
      },
      "source": [
        "!pip install \"huggingface_hub[cli]\"\n",
        "!huggingface-cli download Wan-AI/Wan2.1-I2V-14B-720P --local-dir ./models/Wan2.1-I2V-14B-720P\n",
        "!huggingface-cli download facebook/wav2vec2-base-960h --local-dir ./models/wav2vec2-base-960h\n",
        "!huggingface-cli download acvlab/FantasyTalking fantasytalking_model.ckpt --local-dir ./models"
      ],
      "execution_count": null,
      "outputs": [],
      "id": "6gy2Jxan0D_r"
    },
    {
      "cell_type": "code",
      "metadata": {
        "scrolled": true,
        "id": "n0dwUc1a0D_s"
      },
      "source": [
        "!python appp.py"
      ],
      "execution_count": null,
      "outputs": [],
      "id": "n0dwUc1a0D_s"
    }
  ],
  "metadata": {
    "kernelspec": {
      "display_name": "Python",
      "language": "python",
      "name": "python3"
    },
    "language_info": {
      "codemirror_mode": {
        "name": "ipython",
        "version": 3
      },
      "file_extension": ".py",
      "mimetype": "text/x-python",
      "name": "python",
      "nbconvert_exporter": "python",
      "pygments_lexer": "ipython3"
    },
    "colab": {
      "provenance": []
    }
  },
  "nbformat": 4,
  "nbformat_minor": 5
}