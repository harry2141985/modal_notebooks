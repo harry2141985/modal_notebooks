{
  "cells": [
    {
      "cell_type": "markdown",
      "source": [
        "👉 Get all the portable tools here: https://buymeacoffee.com/socialadapps\n",
        "\n",
        "👉 instagram : https://www.instagram.com/xsocialandapps/"
      ],
      "metadata": {
        "id": "6VF_XxMAiWbd"
      },
      "id": "6VF_XxMAiWbd"
    },
    {
      "cell_type": "markdown",
      "source": [
        "# Clone & Requirements\n",
        "\n"
      ],
      "metadata": {
        "id": "Fg1xR2lhiETu"
      },
      "id": "Fg1xR2lhiETu"
    },
    {
      "cell_type": "code",
      "metadata": {
        "scrolled": true,
        "id": "bwaZ5-gNiAzA"
      },
      "source": [
        "%cd /root\n",
        "!git clone https://huggingface.co/spaces/akhaliq/SRPO\n",
        "%cd SRPO\n",
        "!pip install -r requirements.txt\n",
        "!pip install spaces"
      ],
      "execution_count": null,
      "outputs": [],
      "id": "bwaZ5-gNiAzA"
    },
    {
      "cell_type": "markdown",
      "source": [
        "# Main Code"
      ],
      "metadata": {
        "id": "ibIOB0RiiNzF"
      },
      "id": "ibIOB0RiiNzF"
    },
    {
      "cell_type": "code",
      "metadata": {
        "scrolled": true,
        "id": "d6CdPLu-iAzB"
      },
      "source": [
        "from huggingface_hub import login\n",
        "\n",
        "# ⚠️ Replace YOUR_TOKEN_HERE with your actual Hugging Face token (starts with hf_...)\n",
        "login(token=\"token\")\n",
        "\n",
        "# Run your app\n",
        "!python /root/SRPO/app.py"
      ],
      "execution_count": null,
      "outputs": [],
      "id": "d6CdPLu-iAzB"
    }
  ],
  "metadata": {
    "kernelspec": {
      "display_name": "Python",
      "language": "python",
      "name": "python3"
    },
    "language_info": {
      "codemirror_mode": {
        "name": "ipython",
        "version": 3
      },
      "file_extension": ".py",
      "mimetype": "text/x-python",
      "name": "python",
      "nbconvert_exporter": "python",
      "pygments_lexer": "ipython3"
    },
    "colab": {
      "provenance": []
    }
  },
  "nbformat": 4,
  "nbformat_minor": 5
}